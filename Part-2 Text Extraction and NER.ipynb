{
 "cells": [
  {
   "cell_type": "code",
   "execution_count": null,
   "metadata": {},
   "outputs": [],
   "source": [
    "pip install -r requirements.txt"
   ]
  },
  {
   "cell_type": "code",
   "execution_count": null,
   "metadata": {},
   "outputs": [],
   "source": [
    "import torch\n",
    "import pandas as pd\n",
    "from scripts.data_processing import prepare_data_from_csv, extract_and_process_images\n",
    "from model_utils import train_bert_model, load_model, predict_entities\n",
    "from scripts.utils import load_config\n",
    "from torch.utils.data import DataLoader, TensorDataset"
   ]
  },
  {
   "cell_type": "code",
   "execution_count": null,
   "metadata": {},
   "outputs": [],
   "source": [
    "config_path = 'config/config.yaml'\n",
    "csv_path = 'data/openfoodfactory.csv'\n",
    "\n",
    "# Load configuration\n",
    "config = load_config(config_path)\n",
    "nutrient_buckets = config['nutrient_buckets']\n",
    "\n",
    "# Prepare data from CSV\n",
    "texts, labels = prepare_data_from_csv(csv_path, nutrient_buckets)\n",
    "\n",
    "# Train the model\n",
    "train_bert_model(texts, labels)\n",
    "\n",
    "# Extract and process images\n",
    "text_tensors = extract_and_process_images(csv_path)\n",
    "\n",
    "# Convert list of text tensors to a tensor dataset\n",
    "text_tensors = [torch.tensor(tensor, dtype=torch.int32) for tensor in text_tensors]\n",
    "tensor_dataset = TensorDataset(*text_tensors)  # TensorDataset does not need labels here\n",
    "\n",
    "# Create DataLoader\n",
    "dataloader = DataLoader(tensor_dataset, batch_size=4, shuffle=False)\n",
    "\n",
    "# Load the trained model\n",
    "model, tokenizer = load_model()\n",
    "\n",
    "# Predict entities in batches\n",
    "model.eval()\n",
    "for batch in dataloader:\n",
    "    batch_texts = [tensor.numpy().astype(str) for tensor in batch]\n",
    "    \n",
    "    for text in batch_texts:\n",
    "        text_str = ''.join(map(chr, text))\n",
    "        tokens, predicted_labels = predict_entities(text_str, model, tokenizer)\n",
    "        print(f\"Predicted labels for text: {text_str}\")\n",
    "        print(predicted_labels)"
   ]
  }
 ],
 "metadata": {
  "kernelspec": {
   "display_name": "Python 3",
   "language": "python",
   "name": "python3"
  },
  "language_info": {
   "codemirror_mode": {
    "name": "ipython",
    "version": 3
   },
   "file_extension": ".py",
   "mimetype": "text/x-python",
   "name": "python",
   "nbconvert_exporter": "python",
   "pygments_lexer": "ipython3",
   "version": "3.12.6"
  }
 },
 "nbformat": 4,
 "nbformat_minor": 2
}
