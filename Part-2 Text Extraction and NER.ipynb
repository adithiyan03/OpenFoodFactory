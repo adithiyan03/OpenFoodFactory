{
 "cells": [
  {
   "cell_type": "code",
   "execution_count": null,
   "metadata": {},
   "outputs": [],
   "source": [
    "import yaml\n",
    "from scripts.data_preparation import prepare_data_from_csv\n",
    "from scripts.model_training import train_model\n",
    "from scripts.ocr import extract_text_from_image\n",
    "from scripts.validation import predict_entities\n",
    "from transformers import BertTokenizer\n",
    "import torch"
   ]
  },
  {
   "cell_type": "code",
   "execution_count": null,
   "metadata": {},
   "outputs": [],
   "source": [
    "def load_config(config_path='config/config.yaml'):\n",
    "    with open(config_path, 'r') as file:\n",
    "        return yaml.safe_load(file)"
   ]
  },
  {
   "cell_type": "code",
   "execution_count": null,
   "metadata": {},
   "outputs": [],
   "source": [
    "# Load configuration\n",
    "config = load_config()\n",
    "nutrient_buckets = config['nutrient_buckets']\n",
    "\n",
    "# Prepare data from CSV\n",
    "texts, labels = prepare_data_from_csv('data/openfoodfactory.csv', nutrient_buckets)\n",
    "\n",
    "# Train the model\n",
    "train_model(texts, labels)\n",
    "\n",
    "# Extract text from image\n",
    "image_path = 'path/to/your/image.png'\n",
    "extracted_text = extract_text_from_image(image_path)\n",
    "\n",
    "# Load trained model\n",
    "tokenizer = BertTokenizer.from_pretrained('bert-base-uncased')\n",
    "model = BertForTokenClassification.from_pretrained('bert-base-uncased', num_labels=2)\n",
    "model.load_state_dict(torch.load('model.pt'))\n",
    "\n",
    "# Predict entities in the extracted text\n",
    "tokens, predicted_labels = predict_entities(extracted_text, model, tokenizer)\n",
    "\n",
    "# Print results\n",
    "print(\"Tokens:\", tokens)\n",
    "print(\"Predicted Labels:\", predicted_labels)"
   ]
  }
 ],
 "metadata": {
  "language_info": {
   "name": "python"
  }
 },
 "nbformat": 4,
 "nbformat_minor": 2
}
